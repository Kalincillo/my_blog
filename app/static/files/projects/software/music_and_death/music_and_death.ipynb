{
 "cells": [
  {
   "cell_type": "code",
   "execution_count": 1,
   "id": "ac9e906e",
   "metadata": {},
   "outputs": [],
   "source": [
    "# Install MySql packages\n",
    "# conda update -n base -c conda-forge conda --yes\n",
    "# !pip install ipython-sql\n",
    "# !pip install mysql-connector-python\n",
    "# !conda install -c conda-forge python-dotenv --yes"
   ]
  },
  {
   "cell_type": "code",
   "execution_count": 2,
   "id": "c66f8002",
   "metadata": {},
   "outputs": [],
   "source": [
    "import pandas as pd\n",
    "import numpy as np\n",
    "import matplotlib.pyplot as plt\n",
    "import seaborn as sns\n",
    "import statsmodels as sm\n",
    "import mysql.connector\n",
    "from mysql.connector import Error\n",
    "from os import environ, path\n",
    "from dotenv import load_dotenv\n",
    "from pandas.api.types import CategoricalDtype"
   ]
  },
  {
   "cell_type": "code",
   "execution_count": 3,
   "id": "b020b5ce",
   "metadata": {},
   "outputs": [],
   "source": [
    "# Read enviromental variables to connect the database\n",
    "load_dotenv()\n",
    "password = environ.get('PASSWORD')\n",
    "host = environ.get('HOST')\n",
    "database = environ.get('DATABASE')"
   ]
  },
  {
   "cell_type": "code",
   "execution_count": 4,
   "id": "b86417ba",
   "metadata": {},
   "outputs": [],
   "source": [
    "# List of colors\n",
    "colors = ['lime', 'darkorange', 'darkgreen', 'royalblue', \n",
    "         'darkred', 'gold', 'teal', 'blueviolet', 'coral', \n",
    "         'yellowgreen', 'steelblue', 'crimson', 'tan']"
   ]
  },
  {
   "cell_type": "markdown",
   "id": "dd76f153",
   "metadata": {},
   "source": [
    "## Connect to the database and create dataframes for each table"
   ]
  },
  {
   "cell_type": "code",
   "execution_count": 5,
   "id": "a82db39a",
   "metadata": {},
   "outputs": [
    {
     "name": "stdout",
     "output_type": "stream",
     "text": [
      "Succes Connected\n"
     ]
    }
   ],
   "source": [
    "try:\n",
    "    connection = mysql.connector.connect(host=host ,\n",
    "                                        database=database,\n",
    "                                        user='root',\n",
    "                                        password=password)\n",
    "    if connection.is_connected():\n",
    "        print(\"Succes Connected\")\n",
    "    df_musician = pd.read_sql_query(\"SELECT * FROM music_and_death.musician;\", connection)\n",
    "    df_birth = pd.read_sql_query(\"SELECT * FROM music_and_death.birth;\", connection)\n",
    "    df_death = pd.read_sql_query(\"SELECT * FROM music_and_death.death;\", connection)\n",
    "    df_genre = pd.read_sql_query(\"SELECT * FROM music_and_death.music_genre;\", connection)\n",
    "    genre = pd.read_sql_query(\"SELECT * FROM music_and_death.genre;\", connection)\n",
    "    cause_death = pd.read_sql_query(\"SELECT * FROM music_and_death.cause_death;\", connection)\n",
    "    cities = pd.read_sql_query(\"SELECT * FROM music_and_death.cities;\", connection)\n",
    "    states = pd.read_sql_query(\"SELECT * FROM music_and_death.states;\", connection)\n",
    "    countries = pd.read_sql_query(\"SELECT * FROM music_and_death.countries;\", connection)\n",
    "    \n",
    "    \n",
    "except Error as e:\n",
    "    print(\"Error closing connection\")\n",
    "\n",
    "# Concatenate tables\n",
    "else:\n",
    "    # Concatenate musician and death dataframes\n",
    "    df = pd.concat([df_musician, df_birth], axis=1)\n",
    "    df = pd.concat([df, df_death], axis=1)\n",
    "    df = pd.merge(df, cause_death, on=[\"death_id\", \"death_id\"])\n",
    "    df = df.loc[:, ~df.columns.duplicated()].copy()\n",
    "    df = pd.merge(df, df_genre, on=[\"musician_id\"])\n",
    "    df = df.loc[:, ~df.columns.duplicated()].copy()\n",
    "    df = pd.merge(df, genre, on=[\"genre_id\"])\n",
    "    # rearrange columns\n",
    "    df = df.iloc[:, [0, 1, 2, 3, 5, 7, 8, 9, 11, 6, 4, 10]]\n",
    "    \n",
    "finally:\n",
    "    connection.close()"
   ]
  },
  {
   "cell_type": "markdown",
   "id": "0bb539a3",
   "metadata": {},
   "source": [
    "## Merge and clean the cities, states and countries tables"
   ]
  },
  {
   "cell_type": "code",
   "execution_count": 6,
   "id": "9aab8146",
   "metadata": {},
   "outputs": [],
   "source": [
    "# merge cities table with states table\n",
    "place = cities.merge(states, \n",
    "                      left_on=cities[\"state_id\"], \n",
    "                      right_on=states[\"id\"])\n",
    "\n",
    "# drop duplicate keys\n",
    "place.drop(['key_0', 'state_id', 'id_y'], axis=1, inplace=True)\n",
    "\n",
    "# merge resulted table with countries table\n",
    "place = place.merge(countries, \n",
    "                        left_on=place[\"country_id\"],\n",
    "                        right_on=countries[\"id\"])\n",
    "\n",
    "# drop duplicated keys\n",
    "place.drop(['key_0', 'country_id', 'id', 'iso2', 'capital'], \n",
    "              axis=1, \n",
    "              inplace=True)\n",
    "\n",
    "# rename column names\n",
    "place.rename(\n",
    "    columns={'name_x': 'City', \n",
    "             'name_y': 'State', \n",
    "             'name': 'Country', \n",
    "             'id_x': 'city_id'},\n",
    "    inplace=True\n",
    ")"
   ]
  },
  {
   "cell_type": "markdown",
   "id": "1e12bf87",
   "metadata": {},
   "source": [
    "##  Drop columns with not use"
   ]
  },
  {
   "cell_type": "code",
   "execution_count": 7,
   "id": "c40793a1",
   "metadata": {},
   "outputs": [],
   "source": [
    "df.drop(['middle_name', 'death_id', \"death_date\", \"genre_id\", \"birth\"], \n",
    "        axis=1, \n",
    "        inplace=True)"
   ]
  },
  {
   "cell_type": "code",
   "execution_count": 8,
   "id": "66f967c0",
   "metadata": {},
   "outputs": [
    {
     "data": {
      "text/html": [
       "<div>\n",
       "<style scoped>\n",
       "    .dataframe tbody tr th:only-of-type {\n",
       "        vertical-align: middle;\n",
       "    }\n",
       "\n",
       "    .dataframe tbody tr th {\n",
       "        vertical-align: top;\n",
       "    }\n",
       "\n",
       "    .dataframe thead th {\n",
       "        text-align: right;\n",
       "    }\n",
       "</style>\n",
       "<table border=\"1\" class=\"dataframe\">\n",
       "  <thead>\n",
       "    <tr style=\"text-align: right;\">\n",
       "      <th></th>\n",
       "      <th>musician_id</th>\n",
       "      <th>stage_name</th>\n",
       "      <th>stage_lastname</th>\n",
       "      <th>death_age</th>\n",
       "      <th>cause</th>\n",
       "      <th>genre</th>\n",
       "      <th>birthplace_id</th>\n",
       "    </tr>\n",
       "  </thead>\n",
       "  <tbody>\n",
       "    <tr>\n",
       "      <th>0</th>\n",
       "      <td>1</td>\n",
       "      <td>John</td>\n",
       "      <td>Lennon</td>\n",
       "      <td>40</td>\n",
       "      <td>homicide</td>\n",
       "      <td>rock</td>\n",
       "      <td>50337</td>\n",
       "    </tr>\n",
       "    <tr>\n",
       "      <th>1</th>\n",
       "      <td>432</td>\n",
       "      <td>Kit</td>\n",
       "      <td>Lambert</td>\n",
       "      <td>45</td>\n",
       "      <td>homicide</td>\n",
       "      <td>rock</td>\n",
       "      <td>50388</td>\n",
       "    </tr>\n",
       "    <tr>\n",
       "      <th>2</th>\n",
       "      <td>459</td>\n",
       "      <td>Rusty</td>\n",
       "      <td>Day</td>\n",
       "      <td>36</td>\n",
       "      <td>homicide</td>\n",
       "      <td>rock</td>\n",
       "      <td>117057</td>\n",
       "    </tr>\n",
       "    <tr>\n",
       "      <th>3</th>\n",
       "      <td>481</td>\n",
       "      <td>Felix</td>\n",
       "      <td>Pappalardi</td>\n",
       "      <td>43</td>\n",
       "      <td>homicide</td>\n",
       "      <td>rock</td>\n",
       "      <td>122795</td>\n",
       "    </tr>\n",
       "    <tr>\n",
       "      <th>4</th>\n",
       "      <td>2</td>\n",
       "      <td>Kurt</td>\n",
       "      <td>Cobain</td>\n",
       "      <td>27</td>\n",
       "      <td>suicide</td>\n",
       "      <td>rock</td>\n",
       "      <td>110979</td>\n",
       "    </tr>\n",
       "    <tr>\n",
       "      <th>...</th>\n",
       "      <td>...</td>\n",
       "      <td>...</td>\n",
       "      <td>...</td>\n",
       "      <td>...</td>\n",
       "      <td>...</td>\n",
       "      <td>...</td>\n",
       "      <td>...</td>\n",
       "    </tr>\n",
       "    <tr>\n",
       "      <th>550</th>\n",
       "      <td>380</td>\n",
       "      <td>Sara</td>\n",
       "      <td>Carter</td>\n",
       "      <td>80</td>\n",
       "      <td>unknown</td>\n",
       "      <td>country</td>\n",
       "      <td>125539</td>\n",
       "    </tr>\n",
       "    <tr>\n",
       "      <th>551</th>\n",
       "      <td>525</td>\n",
       "      <td>Hammie</td>\n",
       "      <td>Nixon</td>\n",
       "      <td>76</td>\n",
       "      <td>unknown</td>\n",
       "      <td>country</td>\n",
       "      <td>112931</td>\n",
       "    </tr>\n",
       "    <tr>\n",
       "      <th>552</th>\n",
       "      <td>516</td>\n",
       "      <td>Meredith</td>\n",
       "      <td>Willson</td>\n",
       "      <td>82</td>\n",
       "      <td>heart disease</td>\n",
       "      <td>classical</td>\n",
       "      <td>121375</td>\n",
       "    </tr>\n",
       "    <tr>\n",
       "      <th>553</th>\n",
       "      <td>478</td>\n",
       "      <td>William</td>\n",
       "      <td>Walton</td>\n",
       "      <td>80</td>\n",
       "      <td>natural</td>\n",
       "      <td>classical</td>\n",
       "      <td>50807</td>\n",
       "    </tr>\n",
       "    <tr>\n",
       "      <th>554</th>\n",
       "      <td>185</td>\n",
       "      <td>Nelson</td>\n",
       "      <td>Eddy</td>\n",
       "      <td>65</td>\n",
       "      <td>brain related</td>\n",
       "      <td>classical</td>\n",
       "      <td>124716</td>\n",
       "    </tr>\n",
       "  </tbody>\n",
       "</table>\n",
       "<p>555 rows × 7 columns</p>\n",
       "</div>"
      ],
      "text/plain": [
       "     musician_id stage_name stage_lastname  death_age          cause  \\\n",
       "0              1       John         Lennon         40       homicide   \n",
       "1            432        Kit        Lambert         45       homicide   \n",
       "2            459      Rusty            Day         36       homicide   \n",
       "3            481      Felix     Pappalardi         43       homicide   \n",
       "4              2       Kurt         Cobain         27        suicide   \n",
       "..           ...        ...            ...        ...            ...   \n",
       "550          380       Sara         Carter         80        unknown   \n",
       "551          525     Hammie          Nixon         76        unknown   \n",
       "552          516   Meredith        Willson         82  heart disease   \n",
       "553          478    William         Walton         80        natural   \n",
       "554          185     Nelson           Eddy         65  brain related   \n",
       "\n",
       "         genre  birthplace_id  \n",
       "0         rock          50337  \n",
       "1         rock          50388  \n",
       "2         rock         117057  \n",
       "3         rock         122795  \n",
       "4         rock         110979  \n",
       "..         ...            ...  \n",
       "550    country         125539  \n",
       "551    country         112931  \n",
       "552  classical         121375  \n",
       "553  classical          50807  \n",
       "554  classical         124716  \n",
       "\n",
       "[555 rows x 7 columns]"
      ]
     },
     "execution_count": 8,
     "metadata": {},
     "output_type": "execute_result"
    }
   ],
   "source": [
    "df"
   ]
  },
  {
   "cell_type": "code",
   "execution_count": 9,
   "id": "12694b51",
   "metadata": {},
   "outputs": [
    {
     "data": {
      "text/html": [
       "<div>\n",
       "<style scoped>\n",
       "    .dataframe tbody tr th:only-of-type {\n",
       "        vertical-align: middle;\n",
       "    }\n",
       "\n",
       "    .dataframe tbody tr th {\n",
       "        vertical-align: top;\n",
       "    }\n",
       "\n",
       "    .dataframe thead th {\n",
       "        text-align: right;\n",
       "    }\n",
       "</style>\n",
       "<table border=\"1\" class=\"dataframe\">\n",
       "  <thead>\n",
       "    <tr style=\"text-align: right;\">\n",
       "      <th></th>\n",
       "      <th>city_id</th>\n",
       "      <th>City</th>\n",
       "      <th>State</th>\n",
       "      <th>Country</th>\n",
       "    </tr>\n",
       "  </thead>\n",
       "  <tbody>\n",
       "    <tr>\n",
       "      <th>0</th>\n",
       "      <td>52</td>\n",
       "      <td>Ashkāsham</td>\n",
       "      <td>Badakhshan</td>\n",
       "      <td>Afghanistan</td>\n",
       "    </tr>\n",
       "    <tr>\n",
       "      <th>1</th>\n",
       "      <td>68</td>\n",
       "      <td>Fayzabad</td>\n",
       "      <td>Badakhshan</td>\n",
       "      <td>Afghanistan</td>\n",
       "    </tr>\n",
       "    <tr>\n",
       "      <th>2</th>\n",
       "      <td>78</td>\n",
       "      <td>Jurm</td>\n",
       "      <td>Badakhshan</td>\n",
       "      <td>Afghanistan</td>\n",
       "    </tr>\n",
       "    <tr>\n",
       "      <th>3</th>\n",
       "      <td>84</td>\n",
       "      <td>Khandūd</td>\n",
       "      <td>Badakhshan</td>\n",
       "      <td>Afghanistan</td>\n",
       "    </tr>\n",
       "    <tr>\n",
       "      <th>4</th>\n",
       "      <td>115</td>\n",
       "      <td>Rāghistān</td>\n",
       "      <td>Badakhshan</td>\n",
       "      <td>Afghanistan</td>\n",
       "    </tr>\n",
       "    <tr>\n",
       "      <th>...</th>\n",
       "      <td>...</td>\n",
       "      <td>...</td>\n",
       "      <td>...</td>\n",
       "      <td>...</td>\n",
       "    </tr>\n",
       "    <tr>\n",
       "      <th>148261</th>\n",
       "      <td>131496</td>\n",
       "      <td>Redcliff</td>\n",
       "      <td>Midlands Province</td>\n",
       "      <td>Zimbabwe</td>\n",
       "    </tr>\n",
       "    <tr>\n",
       "      <th>148262</th>\n",
       "      <td>131502</td>\n",
       "      <td>Shangani</td>\n",
       "      <td>Midlands Province</td>\n",
       "      <td>Zimbabwe</td>\n",
       "    </tr>\n",
       "    <tr>\n",
       "      <th>148263</th>\n",
       "      <td>131503</td>\n",
       "      <td>Shurugwi</td>\n",
       "      <td>Midlands Province</td>\n",
       "      <td>Zimbabwe</td>\n",
       "    </tr>\n",
       "    <tr>\n",
       "      <th>148264</th>\n",
       "      <td>131504</td>\n",
       "      <td>Shurugwi District</td>\n",
       "      <td>Midlands Province</td>\n",
       "      <td>Zimbabwe</td>\n",
       "    </tr>\n",
       "    <tr>\n",
       "      <th>148265</th>\n",
       "      <td>131508</td>\n",
       "      <td>Zvishavane District</td>\n",
       "      <td>Midlands Province</td>\n",
       "      <td>Zimbabwe</td>\n",
       "    </tr>\n",
       "  </tbody>\n",
       "</table>\n",
       "<p>148266 rows × 4 columns</p>\n",
       "</div>"
      ],
      "text/plain": [
       "        city_id                 City              State      Country\n",
       "0            52            Ashkāsham         Badakhshan  Afghanistan\n",
       "1            68             Fayzabad         Badakhshan  Afghanistan\n",
       "2            78                 Jurm         Badakhshan  Afghanistan\n",
       "3            84              Khandūd         Badakhshan  Afghanistan\n",
       "4           115            Rāghistān         Badakhshan  Afghanistan\n",
       "...         ...                  ...                ...          ...\n",
       "148261   131496             Redcliff  Midlands Province     Zimbabwe\n",
       "148262   131502             Shangani  Midlands Province     Zimbabwe\n",
       "148263   131503             Shurugwi  Midlands Province     Zimbabwe\n",
       "148264   131504    Shurugwi District  Midlands Province     Zimbabwe\n",
       "148265   131508  Zvishavane District  Midlands Province     Zimbabwe\n",
       "\n",
       "[148266 rows x 4 columns]"
      ]
     },
     "execution_count": 9,
     "metadata": {},
     "output_type": "execute_result"
    }
   ],
   "source": [
    "place"
   ]
  },
  {
   "cell_type": "markdown",
   "id": "285f50f2",
   "metadata": {},
   "source": [
    "## Merge musician info dataframe with place dataframe"
   ]
  },
  {
   "cell_type": "code",
   "execution_count": 10,
   "id": "e5f4b129",
   "metadata": {},
   "outputs": [],
   "source": [
    "# merge df and place dataframes\n",
    "musician = df.merge(place, \n",
    "                    left_on=df['birthplace_id'], \n",
    "                    right_on=place['city_id'])\n",
    "\n",
    "# drop unused columns\n",
    "musician.drop(['birthplace_id', 'city_id', 'key_0'], axis=1, inplace=True)"
   ]
  },
  {
   "cell_type": "code",
   "execution_count": 11,
   "id": "dab04141",
   "metadata": {},
   "outputs": [
    {
     "data": {
      "text/html": [
       "<div>\n",
       "<style scoped>\n",
       "    .dataframe tbody tr th:only-of-type {\n",
       "        vertical-align: middle;\n",
       "    }\n",
       "\n",
       "    .dataframe tbody tr th {\n",
       "        vertical-align: top;\n",
       "    }\n",
       "\n",
       "    .dataframe thead th {\n",
       "        text-align: right;\n",
       "    }\n",
       "</style>\n",
       "<table border=\"1\" class=\"dataframe\">\n",
       "  <thead>\n",
       "    <tr style=\"text-align: right;\">\n",
       "      <th></th>\n",
       "      <th>musician_id</th>\n",
       "      <th>stage_name</th>\n",
       "      <th>stage_lastname</th>\n",
       "      <th>death_age</th>\n",
       "      <th>cause</th>\n",
       "      <th>genre</th>\n",
       "      <th>City</th>\n",
       "      <th>State</th>\n",
       "      <th>Country</th>\n",
       "    </tr>\n",
       "  </thead>\n",
       "  <tbody>\n",
       "    <tr>\n",
       "      <th>0</th>\n",
       "      <td>1</td>\n",
       "      <td>John</td>\n",
       "      <td>Lennon</td>\n",
       "      <td>40</td>\n",
       "      <td>homicide</td>\n",
       "      <td>rock</td>\n",
       "      <td>Liverpool</td>\n",
       "      <td>England</td>\n",
       "      <td>United Kingdom</td>\n",
       "    </tr>\n",
       "    <tr>\n",
       "      <th>1</th>\n",
       "      <td>271</td>\n",
       "      <td>Rory</td>\n",
       "      <td>Storm</td>\n",
       "      <td>34</td>\n",
       "      <td>suicide</td>\n",
       "      <td>rock</td>\n",
       "      <td>Liverpool</td>\n",
       "      <td>England</td>\n",
       "      <td>United Kingdom</td>\n",
       "    </tr>\n",
       "    <tr>\n",
       "      <th>2</th>\n",
       "      <td>502</td>\n",
       "      <td>Tom</td>\n",
       "      <td>Evans</td>\n",
       "      <td>36</td>\n",
       "      <td>suicide</td>\n",
       "      <td>rock</td>\n",
       "      <td>Liverpool</td>\n",
       "      <td>England</td>\n",
       "      <td>United Kingdom</td>\n",
       "    </tr>\n",
       "    <tr>\n",
       "      <th>3</th>\n",
       "      <td>473</td>\n",
       "      <td>Billy</td>\n",
       "      <td>Fury</td>\n",
       "      <td>42</td>\n",
       "      <td>heart disease</td>\n",
       "      <td>rock</td>\n",
       "      <td>Liverpool</td>\n",
       "      <td>England</td>\n",
       "      <td>United Kingdom</td>\n",
       "    </tr>\n",
       "    <tr>\n",
       "      <th>4</th>\n",
       "      <td>188</td>\n",
       "      <td>Brian</td>\n",
       "      <td>Epstein</td>\n",
       "      <td>32</td>\n",
       "      <td>drug overdose</td>\n",
       "      <td>rock</td>\n",
       "      <td>Liverpool</td>\n",
       "      <td>England</td>\n",
       "      <td>United Kingdom</td>\n",
       "    </tr>\n",
       "    <tr>\n",
       "      <th>...</th>\n",
       "      <td>...</td>\n",
       "      <td>...</td>\n",
       "      <td>...</td>\n",
       "      <td>...</td>\n",
       "      <td>...</td>\n",
       "      <td>...</td>\n",
       "      <td>...</td>\n",
       "      <td>...</td>\n",
       "      <td>...</td>\n",
       "    </tr>\n",
       "    <tr>\n",
       "      <th>549</th>\n",
       "      <td>380</td>\n",
       "      <td>Sara</td>\n",
       "      <td>Carter</td>\n",
       "      <td>80</td>\n",
       "      <td>unknown</td>\n",
       "      <td>country</td>\n",
       "      <td>Russell County</td>\n",
       "      <td>Virginia</td>\n",
       "      <td>United States</td>\n",
       "    </tr>\n",
       "    <tr>\n",
       "      <th>550</th>\n",
       "      <td>525</td>\n",
       "      <td>Hammie</td>\n",
       "      <td>Nixon</td>\n",
       "      <td>76</td>\n",
       "      <td>unknown</td>\n",
       "      <td>country</td>\n",
       "      <td>Brownsville</td>\n",
       "      <td>Tennessee</td>\n",
       "      <td>United States</td>\n",
       "    </tr>\n",
       "    <tr>\n",
       "      <th>551</th>\n",
       "      <td>516</td>\n",
       "      <td>Meredith</td>\n",
       "      <td>Willson</td>\n",
       "      <td>82</td>\n",
       "      <td>heart disease</td>\n",
       "      <td>classical</td>\n",
       "      <td>Mason City</td>\n",
       "      <td>Iowa</td>\n",
       "      <td>United States</td>\n",
       "    </tr>\n",
       "    <tr>\n",
       "      <th>552</th>\n",
       "      <td>478</td>\n",
       "      <td>William</td>\n",
       "      <td>Walton</td>\n",
       "      <td>80</td>\n",
       "      <td>natural</td>\n",
       "      <td>classical</td>\n",
       "      <td>Oldham</td>\n",
       "      <td>England</td>\n",
       "      <td>United Kingdom</td>\n",
       "    </tr>\n",
       "    <tr>\n",
       "      <th>553</th>\n",
       "      <td>185</td>\n",
       "      <td>Nelson</td>\n",
       "      <td>Eddy</td>\n",
       "      <td>65</td>\n",
       "      <td>brain related</td>\n",
       "      <td>classical</td>\n",
       "      <td>Providence</td>\n",
       "      <td>Rhode Island</td>\n",
       "      <td>United States</td>\n",
       "    </tr>\n",
       "  </tbody>\n",
       "</table>\n",
       "<p>554 rows × 9 columns</p>\n",
       "</div>"
      ],
      "text/plain": [
       "     musician_id stage_name stage_lastname  death_age          cause  \\\n",
       "0              1       John         Lennon         40       homicide   \n",
       "1            271       Rory          Storm         34        suicide   \n",
       "2            502        Tom          Evans         36        suicide   \n",
       "3            473      Billy           Fury         42  heart disease   \n",
       "4            188      Brian        Epstein         32  drug overdose   \n",
       "..           ...        ...            ...        ...            ...   \n",
       "549          380       Sara         Carter         80        unknown   \n",
       "550          525     Hammie          Nixon         76        unknown   \n",
       "551          516   Meredith        Willson         82  heart disease   \n",
       "552          478    William         Walton         80        natural   \n",
       "553          185     Nelson           Eddy         65  brain related   \n",
       "\n",
       "         genre            City         State         Country  \n",
       "0         rock       Liverpool       England  United Kingdom  \n",
       "1         rock       Liverpool       England  United Kingdom  \n",
       "2         rock       Liverpool       England  United Kingdom  \n",
       "3         rock       Liverpool       England  United Kingdom  \n",
       "4         rock       Liverpool       England  United Kingdom  \n",
       "..         ...             ...           ...             ...  \n",
       "549    country  Russell County      Virginia   United States  \n",
       "550    country     Brownsville     Tennessee   United States  \n",
       "551  classical      Mason City          Iowa   United States  \n",
       "552  classical          Oldham       England  United Kingdom  \n",
       "553  classical      Providence  Rhode Island   United States  \n",
       "\n",
       "[554 rows x 9 columns]"
      ]
     },
     "execution_count": 11,
     "metadata": {},
     "output_type": "execute_result"
    }
   ],
   "source": [
    "musician"
   ]
  },
  {
   "cell_type": "code",
   "execution_count": 46,
   "id": "473c56cf",
   "metadata": {},
   "outputs": [],
   "source": [
    "musician.to_csv('musicians.csv')"
   ]
  },
  {
   "cell_type": "markdown",
   "id": "8aab8fb1",
   "metadata": {},
   "source": [
    "## Create plots to observe the data"
   ]
  },
  {
   "cell_type": "code",
   "execution_count": 12,
   "id": "3517b178",
   "metadata": {},
   "outputs": [
    {
     "data": {
      "image/png": "[encoded data removed]",
      "text/plain": [
       "<Figure size 648x360 with 1 Axes>"
      ]
     },
     "metadata": {},
     "output_type": "display_data"
    }
   ],
   "source": [
    "# Bar plot to show deaths per music genre \n",
    "\n",
    "# Create a new music table using genre as indez and size of each genre\n",
    "df_n = musician.pivot_table(index=['genre'], aggfunc='size')\n",
    "\n",
    "# plot the data\n",
    "plt.figure(figsize=(9,5), facecolor='#0085a1')\n",
    "ax = plt.axes()\n",
    "ax.set_facecolor(\"gainsboro\")\n",
    "ax.set_title(\"Total death musicians 50's to 2020's\",\n",
    "             size=22,\n",
    "             fontweight=\"bold\" )\n",
    "plt.bar(df_n.index, df_n, color=colors)\n",
    "plt.ylabel(\"Deaths\", size=18, fontweight=\"bold\")\n",
    "plt.xlabel(\"Genre\", size=18, fontweight=\"bold\")\n",
    "plt.xticks(rotation='vertical', size=14)\n",
    "plt.grid()\n",
    "plt.show()"
   ]
  },
  {
   "cell_type": "markdown",
   "id": "2c100d58",
   "metadata": {},
   "source": [
    "## Cause of death per music genre"
   ]
  },
  {
   "cell_type": "code",
   "execution_count": 13,
   "id": "6b00ead4",
   "metadata": {
    "scrolled": false
   },
   "outputs": [
    {
     "data": {
      "text/plain": [
       "cause    genre     \n",
       "AIDS     electronic     1\n",
       "         pop            1\n",
       "         rock           3\n",
       "Burned   blues          1\n",
       "Falling  rock           1\n",
       "                       ..\n",
       "unknown  electronic     1\n",
       "         folk           2\n",
       "         jazz          12\n",
       "         pop            3\n",
       "         rock           3\n",
       "Length: 99, dtype: int64"
      ]
     },
     "execution_count": 13,
     "metadata": {},
     "output_type": "execute_result"
    }
   ],
   "source": [
    "df_cd = musician.pivot_table(index=['cause', 'genre'], aggfunc='size')\n",
    "df_cd"
   ]
  },
  {
   "cell_type": "markdown",
   "id": "638cba84",
   "metadata": {},
   "source": [
    "# Questions"
   ]
  },
  {
   "cell_type": "markdown",
   "id": "51377a49",
   "metadata": {},
   "source": [
    "## Most common Death Ages\n"
   ]
  },
  {
   "cell_type": "code",
   "execution_count": 14,
   "id": "ad3d62e6",
   "metadata": {},
   "outputs": [],
   "source": [
    "n_da = musician['death_age'].value_counts().nlargest(10)"
   ]
  },
  {
   "cell_type": "code",
   "execution_count": 15,
   "id": "2cf719b2",
   "metadata": {},
   "outputs": [
    {
     "data": {
      "text/plain": [
       "27    26\n",
       "32    25\n",
       "37    17\n",
       "28    17\n",
       "34    15\n",
       "36    15\n",
       "47    14\n",
       "39    14\n",
       "33    14\n",
       "24    14\n",
       "Name: death_age, dtype: int64"
      ]
     },
     "execution_count": 15,
     "metadata": {},
     "output_type": "execute_result"
    }
   ],
   "source": [
    "n_da"
   ]
  },
  {
   "cell_type": "code",
   "execution_count": 16,
   "id": "bcb91fc0",
   "metadata": {},
   "outputs": [
    {
     "data": {
      "image/png": "[encoded data removed]",
      "text/plain": [
       "<Figure size 648x360 with 1 Axes>"
      ]
     },
     "metadata": {},
     "output_type": "display_data"
    }
   ],
   "source": [
    "plt.figure(figsize=(9,5), facecolor='#0085a1')\n",
    "ax = plt.axes()\n",
    "ax.set_title(\"Most common death ages\",\n",
    "             size=22,\n",
    "             fontweight=\"bold\" )\n",
    "plt.pie(n_da.values, labels=n_da.index, \n",
    "        colors=colors,\n",
    "        startangle=90,\n",
    "        shadow=True,\n",
    "        explode = [0.2, 0, 0, 0, 0, 0, 0, 0, 0, 0])\n",
    "plt.show()"
   ]
  },
  {
   "cell_type": "markdown",
   "id": "0ac38868",
   "metadata": {},
   "source": [
    "## Most common Music Genre deaths"
   ]
  },
  {
   "cell_type": "code",
   "execution_count": 17,
   "id": "bc3ec91d",
   "metadata": {},
   "outputs": [],
   "source": [
    "n_mg = musician['genre'].value_counts()"
   ]
  },
  {
   "cell_type": "code",
   "execution_count": 18,
   "id": "851575bf",
   "metadata": {},
   "outputs": [
    {
     "data": {
      "text/plain": [
       "blues         174\n",
       "rock          143\n",
       "jazz           81\n",
       "hip-hop        59\n",
       "country        28\n",
       "pop            27\n",
       "folk           17\n",
       "metal           8\n",
       "funk            7\n",
       "Reggae          4\n",
       "classical       3\n",
       "electronic      2\n",
       "ska             1\n",
       "Name: genre, dtype: int64"
      ]
     },
     "execution_count": 18,
     "metadata": {},
     "output_type": "execute_result"
    }
   ],
   "source": [
    "n_mg"
   ]
  },
  {
   "cell_type": "code",
   "execution_count": 19,
   "id": "68ae17b8",
   "metadata": {},
   "outputs": [
    {
     "data": {
      "image/png": "[encoded data removed]",
      "text/plain": [
       "<Figure size 648x360 with 1 Axes>"
      ]
     },
     "metadata": {},
     "output_type": "display_data"
    }
   ],
   "source": [
    "plt.figure(figsize=(9,5), facecolor='#0085a1')\n",
    "ax = plt.axes()\n",
    "ax.set_facecolor('gainsboro')\n",
    "ax.set_title(\"Total deaths per music genre\",\n",
    "             size=22,\n",
    "             fontweight=\"bold\" )\n",
    "plt.bar(n_mg.index, n_mg.values, color=colors)\n",
    "plt.ylabel(\"Deaths\", size=18, fontweight=\"bold\")\n",
    "plt.xlabel(\"Genre\", size=18, fontweight=\"bold\")\n",
    "plt.xticks(rotation='vertical', size=14)\n",
    "plt.grid()\n",
    "plt.show()"
   ]
  },
  {
   "cell_type": "markdown",
   "id": "540d015a",
   "metadata": {},
   "source": [
    "# Places"
   ]
  },
  {
   "cell_type": "markdown",
   "id": "3bd72ef1",
   "metadata": {},
   "source": [
    "### Most common countries of origin of dead musicians"
   ]
  },
  {
   "cell_type": "code",
   "execution_count": 20,
   "id": "7ae90493",
   "metadata": {},
   "outputs": [],
   "source": [
    "n_places = musician['Country'].value_counts().nlargest(10)"
   ]
  },
  {
   "cell_type": "code",
   "execution_count": 21,
   "id": "10f8e65d",
   "metadata": {},
   "outputs": [
    {
     "data": {
      "text/plain": [
       "United States     447\n",
       "United Kingdom     58\n",
       "Jamaica             6\n",
       "Canada              6\n",
       "Australia           5\n",
       "Germany             4\n",
       "Lithuania           2\n",
       "New Zealand         2\n",
       "Spain               2\n",
       "South Africa        2\n",
       "Name: Country, dtype: int64"
      ]
     },
     "execution_count": 21,
     "metadata": {},
     "output_type": "execute_result"
    }
   ],
   "source": [
    "n_places"
   ]
  },
  {
   "cell_type": "code",
   "execution_count": 22,
   "id": "2ef608cf",
   "metadata": {
    "scrolled": false
   },
   "outputs": [
    {
     "data": {
      "image/png": "[encoded data removed]",
      "text/plain": [
       "<Figure size 648x360 with 1 Axes>"
      ]
     },
     "metadata": {},
     "output_type": "display_data"
    }
   ],
   "source": [
    "plt.figure(figsize=(9,5), facecolor='#0085a1')\n",
    "ax = plt.axes()\n",
    "ax.set_facecolor('gainsboro')\n",
    "ax.set_title(\"Most common countries of origin of dead musicians\",\n",
    "            size=22,\n",
    "            fontweight=\"bold\")\n",
    "plt.barh(n_places.iloc[::-1].index, n_places.iloc[::-1].values, color=colors)\n",
    "plt.ylabel(\"Country\", size=18, fontweight=\"bold\")\n",
    "plt.xlabel(\"Deaths\", size=18, fontweight=\"bold\")\n",
    "plt.yticks(size=14)\n",
    "plt.grid()\n",
    "plt.show()"
   ]
  },
  {
   "cell_type": "markdown",
   "id": "8e89fabb",
   "metadata": {},
   "source": [
    "### Most common States of origin of dead musicians"
   ]
  },
  {
   "cell_type": "code",
   "execution_count": 23,
   "id": "7f2bcde5",
   "metadata": {},
   "outputs": [],
   "source": [
    "n_states = musician['State'].value_counts().nlargest(10)"
   ]
  },
  {
   "cell_type": "code",
   "execution_count": 24,
   "id": "5ec7343e",
   "metadata": {},
   "outputs": [
    {
     "data": {
      "text/plain": [
       "Mississippi     50\n",
       "England         47\n",
       "New York        46\n",
       "Texas           38\n",
       "California      32\n",
       "Louisiana       28\n",
       "Tennessee       27\n",
       "Pennsylvania    20\n",
       "Illinois        19\n",
       "Georgia         19\n",
       "Name: State, dtype: int64"
      ]
     },
     "execution_count": 24,
     "metadata": {},
     "output_type": "execute_result"
    }
   ],
   "source": [
    "n_states"
   ]
  },
  {
   "cell_type": "code",
   "execution_count": 25,
   "id": "5a393136",
   "metadata": {},
   "outputs": [
    {
     "data": {
      "image/png": "[encoded data removed]",
      "text/plain": [
       "<Figure size 648x360 with 1 Axes>"
      ]
     },
     "metadata": {},
     "output_type": "display_data"
    }
   ],
   "source": [
    "plt.figure(figsize=(9,5), facecolor='#0085a1')\n",
    "ax = plt.axes()\n",
    "ax.set_facecolor('gainsboro')\n",
    "ax.set_title(\"Most common states of origin of dead musicians\",\n",
    "            size=22,\n",
    "            fontweight=\"bold\")\n",
    "plt.barh(n_states.iloc[::-1].index, n_states.iloc[::-1].values, color=colors)\n",
    "plt.ylabel(\"State\", size=18, fontweight=\"bold\")\n",
    "plt.xlabel(\"Deaths\", size=18, fontweight=\"bold\")\n",
    "plt.yticks(size=14)\n",
    "plt.grid()\n",
    "plt.show()"
   ]
  },
  {
   "cell_type": "markdown",
   "id": "cdbb2ec1",
   "metadata": {},
   "source": [
    "### Most common Cities"
   ]
  },
  {
   "cell_type": "code",
   "execution_count": 26,
   "id": "61c5e88c",
   "metadata": {},
   "outputs": [],
   "source": [
    "n_cities = musician['City'].value_counts().nlargest(10)"
   ]
  },
  {
   "cell_type": "code",
   "execution_count": 27,
   "id": "562466c4",
   "metadata": {},
   "outputs": [
    {
     "data": {
      "text/plain": [
       "New York City    28\n",
       "London           18\n",
       "Chicago          17\n",
       "Philadelphia     15\n",
       "New Orleans      12\n",
       "Memphis          12\n",
       "Los Angeles      12\n",
       "Birmingham       10\n",
       "Detroit           6\n",
       "Atlanta           5\n",
       "Name: City, dtype: int64"
      ]
     },
     "execution_count": 27,
     "metadata": {},
     "output_type": "execute_result"
    }
   ],
   "source": [
    "n_cities"
   ]
  },
  {
   "cell_type": "code",
   "execution_count": 28,
   "id": "00be00f3",
   "metadata": {},
   "outputs": [
    {
     "data": {
      "image/png": "[encoded data removed]",
      "text/plain": [
       "<Figure size 648x360 with 1 Axes>"
      ]
     },
     "metadata": {},
     "output_type": "display_data"
    }
   ],
   "source": [
    "plt.figure(figsize=(9, 5), facecolor='#0085a1')\n",
    "ax = plt.axes()\n",
    "ax.set_facecolor('gainsboro')\n",
    "ax.set_title(\"Most common city of origin of dead musicians\",\n",
    "            size=22,\n",
    "            fontweight=\"bold\")\n",
    "plt.barh(n_cities.iloc[::-1].index, n_cities.iloc[::-1].values, color=colors)\n",
    "plt.ylabel(\"City\", size=18, fontweight=\"bold\")\n",
    "plt.xlabel(\"Deaths\", size=18, fontweight=\"bold\")\n",
    "plt.yticks(size=14)\n",
    "plt.grid()\n",
    "plt.show()"
   ]
  },
  {
   "cell_type": "markdown",
   "id": "e0922580",
   "metadata": {},
   "source": []
  },
  {
   "cell_type": "markdown",
   "id": "0306fad8",
   "metadata": {},
   "source": [
    "## Death genre - cause"
   ]
  },
  {
   "cell_type": "code",
   "execution_count": 29,
   "id": "2998eca5",
   "metadata": {},
   "outputs": [],
   "source": [
    "n_cd_gr = musician.loc[:, ['genre', 'cause']].value_counts()"
   ]
  },
  {
   "cell_type": "code",
   "execution_count": 30,
   "id": "5695506b",
   "metadata": {},
   "outputs": [
    {
     "data": {
      "text/plain": [
       "genre    cause                  \n",
       "hip-hop  homicide                   58\n",
       "blues    heart disease              52\n",
       "jazz     heart disease              26\n",
       "blues    cancer                     25\n",
       "rock     heart disease              25\n",
       "blues    unknown                    24\n",
       "rock     drug overdose              24\n",
       "         suicide                    18\n",
       "         car/motorcycle accident    17\n",
       "         alcohol related            13\n",
       "dtype: int64"
      ]
     },
     "execution_count": 30,
     "metadata": {},
     "output_type": "execute_result"
    }
   ],
   "source": [
    "n_cd_gr.head(10)"
   ]
  },
  {
   "cell_type": "code",
   "execution_count": 31,
   "id": "488fdbb2",
   "metadata": {},
   "outputs": [],
   "source": [
    "n_cd_gr = n_cd_gr.reset_index()\n",
    "n_cd_gr.rename(columns={0: 'deaths'}, inplace=True)"
   ]
  },
  {
   "cell_type": "code",
   "execution_count": 32,
   "id": "c5ba0cbd",
   "metadata": {},
   "outputs": [
    {
     "data": {
      "text/html": [
       "<div>\n",
       "<style scoped>\n",
       "    .dataframe tbody tr th:only-of-type {\n",
       "        vertical-align: middle;\n",
       "    }\n",
       "\n",
       "    .dataframe tbody tr th {\n",
       "        vertical-align: top;\n",
       "    }\n",
       "\n",
       "    .dataframe thead th {\n",
       "        text-align: right;\n",
       "    }\n",
       "</style>\n",
       "<table border=\"1\" class=\"dataframe\">\n",
       "  <thead>\n",
       "    <tr style=\"text-align: right;\">\n",
       "      <th></th>\n",
       "      <th>genre</th>\n",
       "      <th>cause</th>\n",
       "      <th>deaths</th>\n",
       "    </tr>\n",
       "  </thead>\n",
       "  <tbody>\n",
       "    <tr>\n",
       "      <th>0</th>\n",
       "      <td>hip-hop</td>\n",
       "      <td>homicide</td>\n",
       "      <td>58</td>\n",
       "    </tr>\n",
       "    <tr>\n",
       "      <th>1</th>\n",
       "      <td>blues</td>\n",
       "      <td>heart disease</td>\n",
       "      <td>52</td>\n",
       "    </tr>\n",
       "    <tr>\n",
       "      <th>2</th>\n",
       "      <td>jazz</td>\n",
       "      <td>heart disease</td>\n",
       "      <td>26</td>\n",
       "    </tr>\n",
       "    <tr>\n",
       "      <th>3</th>\n",
       "      <td>blues</td>\n",
       "      <td>cancer</td>\n",
       "      <td>25</td>\n",
       "    </tr>\n",
       "    <tr>\n",
       "      <th>4</th>\n",
       "      <td>rock</td>\n",
       "      <td>heart disease</td>\n",
       "      <td>25</td>\n",
       "    </tr>\n",
       "    <tr>\n",
       "      <th>...</th>\n",
       "      <td>...</td>\n",
       "      <td>...</td>\n",
       "      <td>...</td>\n",
       "    </tr>\n",
       "    <tr>\n",
       "      <th>94</th>\n",
       "      <td>folk</td>\n",
       "      <td>cancer</td>\n",
       "      <td>1</td>\n",
       "    </tr>\n",
       "    <tr>\n",
       "      <th>95</th>\n",
       "      <td>folk</td>\n",
       "      <td>brain related</td>\n",
       "      <td>1</td>\n",
       "    </tr>\n",
       "    <tr>\n",
       "      <th>96</th>\n",
       "      <td>pop</td>\n",
       "      <td>drawning</td>\n",
       "      <td>1</td>\n",
       "    </tr>\n",
       "    <tr>\n",
       "      <th>97</th>\n",
       "      <td>pop</td>\n",
       "      <td>drug overdose</td>\n",
       "      <td>1</td>\n",
       "    </tr>\n",
       "    <tr>\n",
       "      <th>98</th>\n",
       "      <td>ska</td>\n",
       "      <td>suicide</td>\n",
       "      <td>1</td>\n",
       "    </tr>\n",
       "  </tbody>\n",
       "</table>\n",
       "<p>99 rows × 3 columns</p>\n",
       "</div>"
      ],
      "text/plain": [
       "      genre          cause  deaths\n",
       "0   hip-hop       homicide      58\n",
       "1     blues  heart disease      52\n",
       "2      jazz  heart disease      26\n",
       "3     blues         cancer      25\n",
       "4      rock  heart disease      25\n",
       "..      ...            ...     ...\n",
       "94     folk         cancer       1\n",
       "95     folk  brain related       1\n",
       "96      pop       drawning       1\n",
       "97      pop  drug overdose       1\n",
       "98      ska        suicide       1\n",
       "\n",
       "[99 rows x 3 columns]"
      ]
     },
     "execution_count": 32,
     "metadata": {},
     "output_type": "execute_result"
    }
   ],
   "source": [
    "n_cd_gr"
   ]
  },
  {
   "cell_type": "markdown",
   "id": "aa18498f",
   "metadata": {},
   "source": [
    "### Blues "
   ]
  },
  {
   "cell_type": "code",
   "execution_count": 33,
   "id": "c0665ed9",
   "metadata": {},
   "outputs": [],
   "source": [
    "n_blues = n_cd_gr.loc[n_cd_gr['genre'] == 'blues', ]"
   ]
  },
  {
   "cell_type": "code",
   "execution_count": 34,
   "id": "ed7c262c",
   "metadata": {},
   "outputs": [
    {
     "data": {
      "text/html": [
       "<div>\n",
       "<style scoped>\n",
       "    .dataframe tbody tr th:only-of-type {\n",
       "        vertical-align: middle;\n",
       "    }\n",
       "\n",
       "    .dataframe tbody tr th {\n",
       "        vertical-align: top;\n",
       "    }\n",
       "\n",
       "    .dataframe thead th {\n",
       "        text-align: right;\n",
       "    }\n",
       "</style>\n",
       "<table border=\"1\" class=\"dataframe\">\n",
       "  <thead>\n",
       "    <tr style=\"text-align: right;\">\n",
       "      <th></th>\n",
       "      <th>genre</th>\n",
       "      <th>cause</th>\n",
       "      <th>deaths</th>\n",
       "    </tr>\n",
       "  </thead>\n",
       "  <tbody>\n",
       "    <tr>\n",
       "      <th>1</th>\n",
       "      <td>blues</td>\n",
       "      <td>heart disease</td>\n",
       "      <td>52</td>\n",
       "    </tr>\n",
       "    <tr>\n",
       "      <th>3</th>\n",
       "      <td>blues</td>\n",
       "      <td>cancer</td>\n",
       "      <td>25</td>\n",
       "    </tr>\n",
       "    <tr>\n",
       "      <th>5</th>\n",
       "      <td>blues</td>\n",
       "      <td>unknown</td>\n",
       "      <td>24</td>\n",
       "    </tr>\n",
       "    <tr>\n",
       "      <th>11</th>\n",
       "      <td>blues</td>\n",
       "      <td>homicide</td>\n",
       "      <td>12</td>\n",
       "    </tr>\n",
       "    <tr>\n",
       "      <th>15</th>\n",
       "      <td>blues</td>\n",
       "      <td>respiratory disease</td>\n",
       "      <td>11</td>\n",
       "    </tr>\n",
       "    <tr>\n",
       "      <th>18</th>\n",
       "      <td>blues</td>\n",
       "      <td>brain related</td>\n",
       "      <td>7</td>\n",
       "    </tr>\n",
       "    <tr>\n",
       "      <th>19</th>\n",
       "      <td>blues</td>\n",
       "      <td>drug overdose</td>\n",
       "      <td>6</td>\n",
       "    </tr>\n",
       "    <tr>\n",
       "      <th>23</th>\n",
       "      <td>blues</td>\n",
       "      <td>alcohol related</td>\n",
       "      <td>6</td>\n",
       "    </tr>\n",
       "    <tr>\n",
       "      <th>24</th>\n",
       "      <td>blues</td>\n",
       "      <td>diabetes</td>\n",
       "      <td>6</td>\n",
       "    </tr>\n",
       "    <tr>\n",
       "      <th>25</th>\n",
       "      <td>blues</td>\n",
       "      <td>car/motorcycle accident</td>\n",
       "      <td>6</td>\n",
       "    </tr>\n",
       "    <tr>\n",
       "      <th>30</th>\n",
       "      <td>blues</td>\n",
       "      <td>aircraft accident</td>\n",
       "      <td>4</td>\n",
       "    </tr>\n",
       "    <tr>\n",
       "      <th>33</th>\n",
       "      <td>blues</td>\n",
       "      <td>suicide</td>\n",
       "      <td>4</td>\n",
       "    </tr>\n",
       "    <tr>\n",
       "      <th>36</th>\n",
       "      <td>blues</td>\n",
       "      <td>natural</td>\n",
       "      <td>3</td>\n",
       "    </tr>\n",
       "    <tr>\n",
       "      <th>57</th>\n",
       "      <td>blues</td>\n",
       "      <td>surgery</td>\n",
       "      <td>2</td>\n",
       "    </tr>\n",
       "    <tr>\n",
       "      <th>70</th>\n",
       "      <td>blues</td>\n",
       "      <td>tuberculosis</td>\n",
       "      <td>1</td>\n",
       "    </tr>\n",
       "    <tr>\n",
       "      <th>71</th>\n",
       "      <td>blues</td>\n",
       "      <td>pancreatitis</td>\n",
       "      <td>1</td>\n",
       "    </tr>\n",
       "    <tr>\n",
       "      <th>72</th>\n",
       "      <td>blues</td>\n",
       "      <td>kidney related</td>\n",
       "      <td>1</td>\n",
       "    </tr>\n",
       "    <tr>\n",
       "      <th>73</th>\n",
       "      <td>blues</td>\n",
       "      <td>drawning</td>\n",
       "      <td>1</td>\n",
       "    </tr>\n",
       "    <tr>\n",
       "      <th>74</th>\n",
       "      <td>blues</td>\n",
       "      <td>accidental self-inflicted gunshot</td>\n",
       "      <td>1</td>\n",
       "    </tr>\n",
       "    <tr>\n",
       "      <th>75</th>\n",
       "      <td>blues</td>\n",
       "      <td>Burned</td>\n",
       "      <td>1</td>\n",
       "    </tr>\n",
       "  </tbody>\n",
       "</table>\n",
       "</div>"
      ],
      "text/plain": [
       "    genre                              cause  deaths\n",
       "1   blues                      heart disease      52\n",
       "3   blues                             cancer      25\n",
       "5   blues                            unknown      24\n",
       "11  blues                           homicide      12\n",
       "15  blues                respiratory disease      11\n",
       "18  blues                      brain related       7\n",
       "19  blues                      drug overdose       6\n",
       "23  blues                    alcohol related       6\n",
       "24  blues                           diabetes       6\n",
       "25  blues            car/motorcycle accident       6\n",
       "30  blues                  aircraft accident       4\n",
       "33  blues                            suicide       4\n",
       "36  blues                            natural       3\n",
       "57  blues                            surgery       2\n",
       "70  blues                       tuberculosis       1\n",
       "71  blues                       pancreatitis       1\n",
       "72  blues                     kidney related       1\n",
       "73  blues                           drawning       1\n",
       "74  blues  accidental self-inflicted gunshot       1\n",
       "75  blues                             Burned       1"
      ]
     },
     "execution_count": 34,
     "metadata": {},
     "output_type": "execute_result"
    }
   ],
   "source": [
    "n_blues"
   ]
  },
  {
   "cell_type": "code",
   "execution_count": 35,
   "id": "406640e3",
   "metadata": {},
   "outputs": [
    {
     "data": {
      "image/png": "[encoded data removed]",
      "text/plain": [
       "<Figure size 504x504 with 1 Axes>"
      ]
     },
     "metadata": {},
     "output_type": "display_data"
    }
   ],
   "source": [
    "plt.figure(figsize=(7,7), facecolor='#0085a1')\n",
    "ax = plt.axes()\n",
    "ax.set_facecolor('gainsboro')\n",
    "ax.set_title(\"Cause of death Blues musicians\",\n",
    "            size=22,\n",
    "            fontweight=\"bold\")\n",
    "plt.barh(n_blues['cause'].iloc[::-1],\n",
    "         n_blues['deaths'].iloc[::-1],\n",
    "         color=colors)\n",
    "plt.ylabel(\"Cause\", size=18, fontweight=\"bold\")\n",
    "plt.xlabel(\"Deaths\", size=18, fontweight=\"bold\")\n",
    "plt.yticks(size=14)\n",
    "plt.grid()\n",
    "plt.show()\n"
   ]
  },
  {
   "cell_type": "markdown",
   "id": "0e50d315",
   "metadata": {},
   "source": [
    "### Rock"
   ]
  },
  {
   "cell_type": "code",
   "execution_count": 36,
   "id": "11b5dc8d",
   "metadata": {},
   "outputs": [],
   "source": [
    "n_rock = n_cd_gr.loc[n_cd_gr['genre'] == 'rock', ]"
   ]
  },
  {
   "cell_type": "code",
   "execution_count": 37,
   "id": "613d7a88",
   "metadata": {},
   "outputs": [
    {
     "data": {
      "text/html": [
       "<div>\n",
       "<style scoped>\n",
       "    .dataframe tbody tr th:only-of-type {\n",
       "        vertical-align: middle;\n",
       "    }\n",
       "\n",
       "    .dataframe tbody tr th {\n",
       "        vertical-align: top;\n",
       "    }\n",
       "\n",
       "    .dataframe thead th {\n",
       "        text-align: right;\n",
       "    }\n",
       "</style>\n",
       "<table border=\"1\" class=\"dataframe\">\n",
       "  <thead>\n",
       "    <tr style=\"text-align: right;\">\n",
       "      <th></th>\n",
       "      <th>genre</th>\n",
       "      <th>cause</th>\n",
       "      <th>deaths</th>\n",
       "    </tr>\n",
       "  </thead>\n",
       "  <tbody>\n",
       "    <tr>\n",
       "      <th>4</th>\n",
       "      <td>rock</td>\n",
       "      <td>heart disease</td>\n",
       "      <td>25</td>\n",
       "    </tr>\n",
       "    <tr>\n",
       "      <th>6</th>\n",
       "      <td>rock</td>\n",
       "      <td>drug overdose</td>\n",
       "      <td>24</td>\n",
       "    </tr>\n",
       "    <tr>\n",
       "      <th>7</th>\n",
       "      <td>rock</td>\n",
       "      <td>suicide</td>\n",
       "      <td>18</td>\n",
       "    </tr>\n",
       "    <tr>\n",
       "      <th>8</th>\n",
       "      <td>rock</td>\n",
       "      <td>car/motorcycle accident</td>\n",
       "      <td>17</td>\n",
       "    </tr>\n",
       "    <tr>\n",
       "      <th>9</th>\n",
       "      <td>rock</td>\n",
       "      <td>alcohol related</td>\n",
       "      <td>13</td>\n",
       "    </tr>\n",
       "    <tr>\n",
       "      <th>14</th>\n",
       "      <td>rock</td>\n",
       "      <td>cancer</td>\n",
       "      <td>11</td>\n",
       "    </tr>\n",
       "    <tr>\n",
       "      <th>20</th>\n",
       "      <td>rock</td>\n",
       "      <td>aircraft accident</td>\n",
       "      <td>6</td>\n",
       "    </tr>\n",
       "    <tr>\n",
       "      <th>26</th>\n",
       "      <td>rock</td>\n",
       "      <td>brain related</td>\n",
       "      <td>5</td>\n",
       "    </tr>\n",
       "    <tr>\n",
       "      <th>27</th>\n",
       "      <td>rock</td>\n",
       "      <td>drawning</td>\n",
       "      <td>5</td>\n",
       "    </tr>\n",
       "    <tr>\n",
       "      <th>28</th>\n",
       "      <td>rock</td>\n",
       "      <td>respiratory disease</td>\n",
       "      <td>5</td>\n",
       "    </tr>\n",
       "    <tr>\n",
       "      <th>32</th>\n",
       "      <td>rock</td>\n",
       "      <td>homicide</td>\n",
       "      <td>4</td>\n",
       "    </tr>\n",
       "    <tr>\n",
       "      <th>35</th>\n",
       "      <td>rock</td>\n",
       "      <td>AIDS</td>\n",
       "      <td>3</td>\n",
       "    </tr>\n",
       "    <tr>\n",
       "      <th>43</th>\n",
       "      <td>rock</td>\n",
       "      <td>unknown</td>\n",
       "      <td>3</td>\n",
       "    </tr>\n",
       "    <tr>\n",
       "      <th>49</th>\n",
       "      <td>rock</td>\n",
       "      <td>electrocution</td>\n",
       "      <td>2</td>\n",
       "    </tr>\n",
       "    <tr>\n",
       "      <th>62</th>\n",
       "      <td>rock</td>\n",
       "      <td>Falling</td>\n",
       "      <td>1</td>\n",
       "    </tr>\n",
       "    <tr>\n",
       "      <th>63</th>\n",
       "      <td>rock</td>\n",
       "      <td>accidental self-inflicted gunshot</td>\n",
       "      <td>1</td>\n",
       "    </tr>\n",
       "  </tbody>\n",
       "</table>\n",
       "</div>"
      ],
      "text/plain": [
       "   genre                              cause  deaths\n",
       "4   rock                      heart disease      25\n",
       "6   rock                      drug overdose      24\n",
       "7   rock                            suicide      18\n",
       "8   rock            car/motorcycle accident      17\n",
       "9   rock                    alcohol related      13\n",
       "14  rock                             cancer      11\n",
       "20  rock                  aircraft accident       6\n",
       "26  rock                      brain related       5\n",
       "27  rock                           drawning       5\n",
       "28  rock                respiratory disease       5\n",
       "32  rock                           homicide       4\n",
       "35  rock                               AIDS       3\n",
       "43  rock                            unknown       3\n",
       "49  rock                      electrocution       2\n",
       "62  rock                            Falling       1\n",
       "63  rock  accidental self-inflicted gunshot       1"
      ]
     },
     "execution_count": 37,
     "metadata": {},
     "output_type": "execute_result"
    }
   ],
   "source": [
    "n_rock"
   ]
  },
  {
   "cell_type": "code",
   "execution_count": 38,
   "id": "f2c3d19a",
   "metadata": {
    "scrolled": false
   },
   "outputs": [
    {
     "data": {
      "image/png": "[encoded data removed]",
      "text/plain": [
       "<Figure size 504x504 with 1 Axes>"
      ]
     },
     "metadata": {},
     "output_type": "display_data"
    }
   ],
   "source": [
    "plt.figure(figsize=(7,7), facecolor='#0085a1')\n",
    "ax = plt.axes()\n",
    "ax.set_facecolor('gainsboro')\n",
    "ax.set_title(\"Cause of death Rock musicians\",\n",
    "            size=22,\n",
    "            fontweight=\"bold\")\n",
    "plt.barh(n_rock['cause'].iloc[::-1],\n",
    "         n_rock['deaths'].iloc[::-1],\n",
    "         color=colors)\n",
    "\n",
    "plt.ylabel(\"Cause\", size=18, fontweight=\"bold\")\n",
    "plt.xlabel(\"Deaths\", size=18, fontweight=\"bold\")\n",
    "plt.yticks(size=14)\n",
    "plt.grid()\n",
    "plt.show()\n"
   ]
  },
  {
   "cell_type": "markdown",
   "id": "cf645869",
   "metadata": {},
   "source": [
    "### Jazz"
   ]
  },
  {
   "cell_type": "code",
   "execution_count": 39,
   "id": "ac8ad121",
   "metadata": {},
   "outputs": [],
   "source": [
    "n_jazz = n_cd_gr.loc[n_cd_gr['genre'] == 'jazz', ]"
   ]
  },
  {
   "cell_type": "code",
   "execution_count": 40,
   "id": "036c5f54",
   "metadata": {},
   "outputs": [
    {
     "data": {
      "image/png": "[encoded data removed]",
      "text/plain": [
       "<Figure size 504x504 with 1 Axes>"
      ]
     },
     "metadata": {},
     "output_type": "display_data"
    }
   ],
   "source": [
    "plt.figure(figsize=(7,7), facecolor='#0085a1')\n",
    "ax = plt.axes()\n",
    "ax.set_facecolor('gainsboro')\n",
    "ax.set_title(\"Cause of death Jazz musicians\",\n",
    "            size=22,\n",
    "            fontweight=\"bold\")\n",
    "plt.barh(n_jazz['cause'].iloc[::-1],\n",
    "         n_jazz['deaths'].iloc[::-1],\n",
    "         color=colors)\n",
    "\n",
    "plt.ylabel(\"Cause\", size=18, fontweight=\"bold\")\n",
    "plt.xlabel(\"Deaths\", size=18, fontweight=\"bold\")\n",
    "plt.yticks(size=14)\n",
    "plt.grid()\n",
    "plt.show()"
   ]
  },
  {
   "cell_type": "markdown",
   "id": "d37f1bc1",
   "metadata": {},
   "source": [
    "## Most common Cause o deaths"
   ]
  },
  {
   "cell_type": "code",
   "execution_count": 41,
   "id": "0146985f",
   "metadata": {},
   "outputs": [],
   "source": [
    "n_cause_death = musician['cause'].value_counts().nlargest(10)"
   ]
  },
  {
   "cell_type": "code",
   "execution_count": 42,
   "id": "ca7d2ee9",
   "metadata": {},
   "outputs": [
    {
     "data": {
      "text/plain": [
       "heart disease              124\n",
       "homicide                    82\n",
       "cancer                      59\n",
       "unknown                     48\n",
       "drug overdose               47\n",
       "car/motorcycle accident     37\n",
       "suicide                     28\n",
       "respiratory disease         25\n",
       "aircraft accident           24\n",
       "alcohol related             21\n",
       "Name: cause, dtype: int64"
      ]
     },
     "execution_count": 42,
     "metadata": {},
     "output_type": "execute_result"
    }
   ],
   "source": [
    "n_cause_death"
   ]
  },
  {
   "cell_type": "code",
   "execution_count": 43,
   "id": "d3bac3af",
   "metadata": {},
   "outputs": [
    {
     "data": {
      "image/png": "[encoded data removed]",
      "text/plain": [
       "<Figure size 504x504 with 1 Axes>"
      ]
     },
     "metadata": {},
     "output_type": "display_data"
    }
   ],
   "source": [
    "plt.figure(figsize=(7,7), facecolor='#0085a1')\n",
    "ax = plt.axes()\n",
    "ax.set_facecolor('gainsboro')\n",
    "ax.set_title(\"Most common causes of death\",\n",
    "            size=22,\n",
    "            fontweight=\"bold\")\n",
    "plt.barh(n_cause_death.iloc[::-1].index,\n",
    "         n_cause_death.iloc[::-1].values,\n",
    "         color=colors)\n",
    "\n",
    "plt.ylabel(\"Cause\", size=18, fontweight=\"bold\")\n",
    "plt.xlabel(\"Deaths\", size=18, fontweight=\"bold\")\n",
    "plt.yticks(size=14)\n",
    "plt.grid()\n",
    "plt.show()\n"
   ]
  },
  {
   "cell_type": "code",
   "execution_count": null,
   "id": "2356fcb2",
   "metadata": {},
   "outputs": [],
   "source": []
  }
 ],
 "metadata": {
  "kernelspec": {
   "display_name": "Python 3",
   "language": "python",
   "name": "python3"
  },
  "language_info": {
   "codemirror_mode": {
    "name": "ipython",
    "version": 3
   },
   "file_extension": ".py",
   "mimetype": "text/x-python",
   "name": "python",
   "nbconvert_exporter": "python",
   "pygments_lexer": "ipython3",
   "version": "3.8.8"
  }
 },
 "nbformat": 4,
 "nbformat_minor": 5
}
